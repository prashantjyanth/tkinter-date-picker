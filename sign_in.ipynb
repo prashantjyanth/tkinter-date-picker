{
 "cells": [
  {
   "cell_type": "code",
   "execution_count": 9,
   "metadata": {},
   "outputs": [],
   "source": [
    "from tkinter import *\n",
    "from tkinter import ttk\n",
    "from tkcalendar import Calendar, DateEntry\n",
    "\n",
    "def calendar_view():\n",
    "    def print_sel():\n",
    "        e2 = Entry(mainframe,width = 50)\n",
    "        e2.insert(END,cal.selection_get())\n",
    "        e2.grid(row = 2,column=1)\n",
    "        \n",
    "        \n",
    "\n",
    "    top = Toplevel(root)\n",
    "\n",
    "    cal = Calendar(top,font=\"Arial 14\", selectmode='day',cursor=\"hand1\", year=2018, month=2, day=5)\n",
    "    cal.pack(fill=\"both\", expand=True)\n",
    "    ttk.Button(top, text=\"ok\", command=print_sel).pack()\n",
    "    return \"pk\"\n",
    "\n",
    "#widow properties...............................................................................\n",
    "\n",
    "root = Tk()\n",
    "root.geometry('640x480')\n",
    "root.iconbitmap('logo.ico')\n",
    "root.title(\"Student Managment System\")\n",
    "\n",
    "#frames...........................................................................................\n",
    "\n",
    "mainframe = ttk.Frame(root, padding=\"10 10 12 12\")\n",
    "mainframe.grid(column=0, row=0, sticky=(N, W, E, S))\n",
    "Label(mainframe, text=\"USER NAME/EMAIL\").grid(row = 0,column = 0,sticky='E')\n",
    "e1 = Entry(mainframe,width = 50).grid(row = 0,column=1)\n",
    "Label(mainframe, text=\"PASSWORD\").grid(row = 1,column = 0,sticky='E')\n",
    "e2 = Entry(mainframe,width = 50,).grid(row = 1,column=1,)\n",
    "Label(mainframe, text=\"DOB\").grid(row = 2,column = 0,sticky='E')\n",
    "\n",
    "b1 = Button(mainframe, text='Select DOB',width=10,command=calendar_view)\n",
    "b1.grid(row = 3,column=1, sticky='E')\n",
    "\n",
    "\n",
    "root.mainloop()"
   ]
  },
  {
   "cell_type": "code",
   "execution_count": 5,
   "metadata": {},
   "outputs": [
    {
     "name": "stdout",
     "output_type": "stream",
     "text": [
      "Collecting tkcalendar\n",
      "  Downloading https://files.pythonhosted.org/packages/fa/5f/5dfcb9212950d71e1ebe21e1ebc9995f2638c81ed2101987583a944fd137/tkcalendar-1.3.1-py3-none-any.whl\n",
      "Installing collected packages: tkcalendar\n",
      "Successfully installed tkcalendar-1.3.1\n"
     ]
    },
    {
     "name": "stderr",
     "output_type": "stream",
     "text": [
      "You are using pip version 9.0.1, however version 18.1 is available.\n",
      "You should consider upgrading via the 'python -m pip install --upgrade pip' command.\n"
     ]
    }
   ],
   "source": [
    "!pip install tkcalendar"
   ]
  },
  {
   "cell_type": "code",
   "execution_count": 11,
   "metadata": {},
   "outputs": [
    {
     "name": "stdout",
     "output_type": "stream",
     "text": [
      "2018-02-05\n"
     ]
    }
   ],
   "source": [
    "# from tkcalendar import Calendar, DateEntry\n",
    "# from tkinter import *\n",
    "\n",
    "# def calendar_view():\n",
    "#     def print_sel():\n",
    "#         print(cal.selection_get())\n",
    "#         root.destroy()\n",
    "\n",
    "#     top = Toplevel(root)\n",
    "\n",
    "#     cal = Calendar(top,\n",
    "#                    font=\"Arial 14\", selectmode='day',\n",
    "#                    cursor=\"hand1\", year=2018, month=2, day=5)\n",
    "#     cal.pack(fill=\"both\", expand=True)\n",
    "#     ttk.Button(top, text=\"ok\", command=print_sel).pack()\n",
    "\n",
    "\n",
    "# root = Tk()\n",
    "# # s = style(root)\n",
    "# # s.theme_use('clam')\n",
    "\n",
    "# Button(root, text='Calendar', command=calendar_view).pack(padx=10, pady=10)\n",
    "\n",
    "# root.mainloop()\n"
   ]
  },
  {
   "cell_type": "code",
   "execution_count": null,
   "metadata": {},
   "outputs": [],
   "source": []
  }
 ],
 "metadata": {
  "kernelspec": {
   "display_name": "Python 3",
   "language": "python",
   "name": "python3"
  },
  "language_info": {
   "codemirror_mode": {
    "name": "ipython",
    "version": 3
   },
   "file_extension": ".py",
   "mimetype": "text/x-python",
   "name": "python",
   "nbconvert_exporter": "python",
   "pygments_lexer": "ipython3",
   "version": "3.6.4"
  }
 },
 "nbformat": 4,
 "nbformat_minor": 2
}
